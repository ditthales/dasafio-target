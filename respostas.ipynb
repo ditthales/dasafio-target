{
  "nbformat": 4,
  "nbformat_minor": 0,
  "metadata": {
    "colab": {
      "provenance": [],
      "authorship_tag": "ABX9TyNwh5l8ODbtUFOQ+RHUp43U",
      "include_colab_link": true
    },
    "kernelspec": {
      "name": "python3",
      "display_name": "Python 3"
    },
    "language_info": {
      "name": "python"
    }
  },
  "cells": [
    {
      "cell_type": "markdown",
      "metadata": {
        "id": "view-in-github",
        "colab_type": "text"
      },
      "source": [
        "<a href=\"https://colab.research.google.com/github/ditthales/dasafio-target/blob/main/respostas.ipynb\" target=\"_parent\"><img src=\"https://colab.research.google.com/assets/colab-badge.svg\" alt=\"Open In Colab\"/></a>"
      ]
    },
    {
      "cell_type": "markdown",
      "source": [
        "Questão 1: o resultado desejado é 91, como mostrado no algoritmo reproduzido abaixo."
      ],
      "metadata": {
        "id": "FmL86s3KBQUH"
      }
    },
    {
      "cell_type": "code",
      "source": [
        "indice = 13\n",
        "soma = 0\n",
        "k = 0\n",
        "\n",
        "while k < indice:\n",
        "  k = k + 1\n",
        "  soma = soma + k\n",
        "\n",
        "print(soma)"
      ],
      "metadata": {
        "colab": {
          "base_uri": "https://localhost:8080/"
        },
        "id": "tFFy6zcO_U2e",
        "outputId": "64b54be2-ea04-4e11-8028-64ef83823833"
      },
      "execution_count": 2,
      "outputs": [
        {
          "output_type": "stream",
          "name": "stdout",
          "text": [
            "91\n"
          ]
        }
      ]
    },
    {
      "cell_type": "markdown",
      "source": [
        "\n",
        "\n",
        "---\n",
        "\n"
      ],
      "metadata": {
        "id": "YmgYuFG_KOtd"
      }
    },
    {
      "cell_type": "markdown",
      "source": [
        "Questão 2: Digite o número e descubra se ele faz parte da sequencia de fibonacci. O código foi desenvolvido usando recursão, uma abordagem comum para esse tipo de problema."
      ],
      "metadata": {
        "id": "ajAzaUdgBbil"
      }
    },
    {
      "cell_type": "code",
      "execution_count": 11,
      "metadata": {
        "colab": {
          "base_uri": "https://localhost:8080/"
        },
        "id": "ONCq-NhD_SEW",
        "outputId": "1a11e363-23fe-4b59-d231-6c17eb92f691"
      },
      "outputs": [
        {
          "output_type": "stream",
          "name": "stdout",
          "text": [
            "Digite um número para verificar se pertence à sequência de Fibonacci: 34\n",
            "O número 34 pertence à sequência de Fibonacci.\n"
          ]
        }
      ],
      "source": [
        "def fibonacci(numero, a = 0, b = 1):\n",
        "  if b == numero or numero == 0 or numero == 1:\n",
        "    return True\n",
        "\n",
        "  if b > numero:\n",
        "    return False\n",
        "\n",
        "  return fibonacci(numero, b, a + b)\n",
        "\n",
        "numero = int(input(\"Digite um número para verificar se pertence à sequência de Fibonacci: \"))\n",
        "\n",
        "if fibonacci(numero):\n",
        "    print(f\"O número {numero} pertence à sequência de Fibonacci.\")\n",
        "else:\n",
        "    print(f\"O número {numero} não pertence à sequência de Fibonacci.\")"
      ]
    },
    {
      "cell_type": "markdown",
      "source": [
        "---\n",
        "\n"
      ],
      "metadata": {
        "id": "pJ6KqvREKEp8"
      }
    },
    {
      "cell_type": "markdown",
      "source": [
        "Questão 3: Descubra a lógica e complete o próximo elemento:   \n",
        "Letra A: 1, 3, 5, 7, _9_ -> (2n-1)  \n",
        "Letra B: 2, 4, 8, 16, 32, 64, _128_ -> (2^n)      \n",
        "Letra C: 0, 1, 4, 9, 16, 25, 36, _49_ -> (n^2)    \n",
        "Letra D: 4, 16, 36, 64, _100_ -> (2n^2)   \n",
        "Letra E: 1, 1, 2, 3, 5, 8, _13_ -> (fibonacci)  \n",
        "Letra F: 2,10, 12, 16, 17, 18, 19, _200_ -> (numeros naturais que começam com D)"
      ],
      "metadata": {
        "id": "1geIKG7nBvRH"
      }
    },
    {
      "cell_type": "markdown",
      "source": [
        "\n",
        "\n",
        "---\n",
        "\n"
      ],
      "metadata": {
        "id": "H_E0AVGCKB6X"
      }
    },
    {
      "cell_type": "markdown",
      "source": [
        "Questão 4:\n",
        "\n",
        "1- Ligar um dos interruptores e deixar ligado por um tempo.\n",
        "\n",
        "2- Desligar esse interruptor e ligar outro.\n",
        "\n",
        "3- Ir até uma sala e verificar se a lampada está acesa:\n",
        "\n",
        "  3.1- Se a lampada estiver acesa, o interruptor ligado controla ela\n",
        "\n",
        "  3.2- Se a lampada estiver apagada, mas quente, o primeiro interruptor controla ela\n",
        "\n",
        "  3.3- Se a lampada apagada e fria, o interruptor que não foi usado é o que controla ela\n",
        "\n",
        "4- Tendo agora relacionado um interruptor a uma lampada, basta acender um dos outros dois e ir até outra sala:\n",
        "\n",
        "  4.1- Se estiver acessa esse interruptor controla essa lampada e o outro a outra\n",
        "\n",
        "  4.2- Se estiver apagada, esse interruptor controla a outra lampada e o outro controla essa."
      ],
      "metadata": {
        "id": "EndaE4sNIoMi"
      }
    },
    {
      "cell_type": "markdown",
      "source": [
        "\n",
        "\n",
        "---\n",
        "\n"
      ],
      "metadata": {
        "id": "ptWf-7XAKLzg"
      }
    },
    {
      "cell_type": "markdown",
      "source": [
        "Questão 5: Escreva um programa que inverta os caracteres de um string.\n",
        "\n",
        "Como sugerido, tentei não utilizar funções prontas da linguagem."
      ],
      "metadata": {
        "id": "U51ayvuEFdQv"
      }
    },
    {
      "cell_type": "code",
      "source": [
        "def inverter_string(string):\n",
        "\n",
        "  tamanho = 0\n",
        "\n",
        "  caracteres_vetor = []\n",
        "\n",
        "  for caractere in string:\n",
        "    caracteres_vetor.append(caractere)\n",
        "    tamanho = tamanho + 1\n",
        "\n",
        "  for i in range(tamanho // 2):\n",
        "    temporario = caracteres_vetor[i]\n",
        "    caracteres_vetor[i] = caracteres_vetor[tamanho - 1 - i]\n",
        "    caracteres_vetor[tamanho - 1 - i] = temporario\n",
        "\n",
        "  string_resultante = \"\"\n",
        "\n",
        "  for caractere in caracteres_vetor:\n",
        "    string_resultante = string_resultante + caractere\n",
        "\n",
        "\n",
        "  return string_resultante\n",
        "\n",
        "entrada = input(\"Digite uma string: \")\n",
        "string_invertida = inverter_string(entrada)\n",
        "print(\"A string invertida é:\", string_invertida)"
      ],
      "metadata": {
        "colab": {
          "base_uri": "https://localhost:8080/"
        },
        "id": "WAmh7hByFc5Z",
        "outputId": "f4e98afe-4198-4d69-a58d-227e63d7186a"
      },
      "execution_count": 18,
      "outputs": [
        {
          "output_type": "stream",
          "name": "stdout",
          "text": [
            "Digite uma string: anamariabraga\n",
            "A string invertida é: agarbairamana\n"
          ]
        }
      ]
    }
  ]
}